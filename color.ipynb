{
 "cells": [
  {
   "cell_type": "code",
   "execution_count": 2,
   "metadata": {},
   "outputs": [],
   "source": [
    "import numpy as np\n",
    "import pandas as pd\n",
    "import matplotlib.pyplot as plt\n",
    "from PIL import Image\n",
    "import os\n",
    "\n",
    "zeros = np.zeros((256,256,3),int)\n",
    "\n",
    "red = np.asarray(Image.open(\"/home/paddy/git/input/red.png\"))\n",
    "blue = np.asarray(Image.open(\"/home/paddy/git/input/blue.png\"))\n",
    "green = np.asarray(Image.open(\"/home/paddy/git/input/green.png\"))\n",
    "pink = np.asarray(Image.open(\"/home/paddy/git/input/pink.png\"))\n",
    "save_folder = \"/home/paddy/git/input/simple_season\"\n",
    "os.makedirs(save_folder, exist_ok=True)\n",
    "\n",
    "color_list = ['red', 'blue', 'green', 'pink']\n",
    "num_per_color = 12500\n",
    "total = 0\n",
    "\n",
    "red_list = blue_list = green_list = pink_list = []\n",
    "filename_list = []\n",
    "\n",
    "for color in color_list:    \n",
    "    for i in range(num_per_color):\n",
    "        filename = f\"{save_folder}/{total+i+1}.png\"\n",
    "        filename_list.append(filename)\n",
    "        red_list.append(1 if color == 'red' else -1)\n",
    "        blue_list.append(1 if color == 'blue' else -1)\n",
    "        green_list.append(1 if color == 'green' else -1)\n",
    "        pink_list.append(1 if color == 'pink' else -1)\n",
    "        plt.imshow(eval(color))\n",
    "        plt.savefig(filename)\n",
    "        plt.close()\n",
    "    total += num_per_color\n",
    "df = pd.DataFrame(zip(filename_list, red_list, blue_list, green_list, pink_list), columns=(\"filename\", \"red\", \"blue\", \"green\", \"pink\"))\n",
    "print(df)"
   ]
  },
  {
   "cell_type": "code",
   "execution_count": null,
   "metadata": {},
   "outputs": [],
   "source": [
    "df.to_csv(\"home/paddy/git/input/simple_season.csv\", index=False)"
   ]
  }
 ],
 "metadata": {
  "kernelspec": {
   "display_name": "wopt",
   "language": "python",
   "name": "python3"
  },
  "language_info": {
   "codemirror_mode": {
    "name": "ipython",
    "version": 3
   },
   "file_extension": ".py",
   "mimetype": "text/x-python",
   "name": "python",
   "nbconvert_exporter": "python",
   "pygments_lexer": "ipython3",
   "version": "3.10.12"
  },
  "orig_nbformat": 4
 },
 "nbformat": 4,
 "nbformat_minor": 2
}
