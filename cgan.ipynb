{
 "cells": [
  {
   "cell_type": "markdown",
   "metadata": {},
   "source": [
    "## Test Code for the cGAN"
   ]
  },
  {
   "cell_type": "code",
   "execution_count": 8,
   "metadata": {},
   "outputs": [
    {
     "data": {
      "text/plain": [
       "tensor([1.])"
      ]
     },
     "execution_count": 8,
     "metadata": {},
     "output_type": "execute_result"
    }
   ],
   "source": [
    "import torch\n",
    "import pathlib\n",
    "def celeb_label_transform(desired_attr):\n",
    "    \"\"\"\n",
    "    Pass in a the names of all the attributes that you want\n",
    "    \"\"\"\n",
    "\n",
    "    file = open('C:/Users/Paddy/CRT/Github/input/CelebA/list_attr_celeba.csv').read().split()\n",
    "    attr_names = file[0].split(',')\n",
    "    file = file[1:]\n",
    "    \n",
    "    def transform(idx):\n",
    "        attr = torch.tensor([int(entry) for entry in file[idx].split(',')[1:]])\n",
    "        mask = [attr_names[1:][i] in desired_attr for i in range(len(attr))]\n",
    "        masked = attr[mask]\n",
    "        return torch.relu(masked).float()\n",
    "    return transform\n",
    "\n",
    "file = open('C:/Users/Paddy/CRT/Github/input/CelebA/list_attr_celeba.csv').read().split()\n",
    "attr_names = file[0].split(',')\n",
    "\n",
    "bald_transform = celeb_label_transform(\"Bald\")\n",
    "bald_transform(50)\n"
   ]
  },
  {
   "cell_type": "code",
   "execution_count": 9,
   "metadata": {},
   "outputs": [],
   "source": [
    "import pandas as pd\n",
    "\n",
    "targ_dir = 'C:/Users/Paddy/CRT/Github/input/SEN12MS/'\n",
    "filenames = list(pathlib.Path(targ_dir).glob(\"*/*/*.tif\"))\n",
    "\n",
    "# dictionary of lists\n",
    "dict = {'name': filenames}\n",
    "     \n",
    "df = pd.DataFrame(filenames)\n",
    "     \n",
    "# saving the dataframe\n",
    "df.to_csv('sen12_filenames.csv')"
   ]
  },
  {
   "cell_type": "code",
   "execution_count": 6,
   "metadata": {},
   "outputs": [
    {
     "name": "stdout",
     "output_type": "stream",
     "text": [
      "C:\\Users\\Paddy\\CRT\\Github\\input\\SEN12MS\\ROIs1158_spring\\s2_1\\ROIs1158_spring_s2_1_p100.tif\n"
     ]
    }
   ],
   "source": [
    "def sen12_label_transform(desired_season):\n",
    "    \"\"\"\n",
    "    Pass in a the names of all the attributes that you want\n",
    "    \"\"\"\n",
    "\n",
    "    file = open('C:/Users/Paddy/CRT/Github/input/SEN12MS/sen12_seasons.csv').read().split()\n",
    "    season_names = file[0].split(',')\n",
    "    file = file[1:]\n",
    "    \n",
    "    def transform(idx):\n",
    "        season = torch.tensor([int(entry) for entry in file[idx].split(',')[1:]])\n",
    "        mask = [season_names[1:][i] in desired_season for i in range(len(season))]\n",
    "        masked = season[mask]\n",
    "        return torch.relu(masked).float()\n",
    "    return transform"
   ]
  },
  {
   "cell_type": "code",
   "execution_count": 27,
   "metadata": {},
   "outputs": [
    {
     "name": "stdout",
     "output_type": "stream",
     "text": [
      "C:/Users/Paddy/CRT/Github/input/SEN12MS/ROIs1158_spring/s2_1/ROIs1158_spring_s2_1_p100.tif\n"
     ]
    }
   ],
   "source": [
    "import os\n",
    "\n",
    "path = \"C:/Users/Paddy/CRT/Github/input/SEN12MS/\"\n",
    "filenames = list(pathlib.Path(targ_dir).glob(\"*/*/*.tif\"))\n",
    "\n",
    "path = \"C:/Users/Paddy/CRT/Github/input/SEN12MS/ROIs1158_spring/s2_1/ROIs1158_spring_s2_1_p100.tif\"\n",
    "if path.split(os.path.sep)[-1]:\n",
    "    parent_folder = path.split(os.path.sep)[-1] # if no backslashes at the end\n",
    "else:\n",
    "    parent_folder = path.split(os.path.sep)[-2]\n",
    "\n",
    "print(parent_folder)"
   ]
  },
  {
   "cell_type": "code",
   "execution_count": null,
   "metadata": {},
   "outputs": [],
   "source": []
  }
 ],
 "metadata": {
  "kernelspec": {
   "display_name": "wopt",
   "language": "python",
   "name": "python3"
  },
  "language_info": {
   "codemirror_mode": {
    "name": "ipython",
    "version": 3
   },
   "file_extension": ".py",
   "mimetype": "text/x-python",
   "name": "python",
   "nbconvert_exporter": "python",
   "pygments_lexer": "ipython3",
   "version": "3.10.12"
  },
  "orig_nbformat": 4
 },
 "nbformat": 4,
 "nbformat_minor": 2
}
