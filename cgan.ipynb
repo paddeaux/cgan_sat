{
 "cells": [
  {
   "cell_type": "markdown",
   "metadata": {},
   "source": [
    "## Test Code for the cGAN"
   ]
  },
  {
   "cell_type": "code",
   "execution_count": 8,
   "metadata": {},
   "outputs": [
    {
     "data": {
      "text/plain": [
       "tensor([1.])"
      ]
     },
     "execution_count": 8,
     "metadata": {},
     "output_type": "execute_result"
    }
   ],
   "source": [
    "import torch\n",
    "import pathlib\n",
    "def celeb_label_transform(desired_attr):\n",
    "    \"\"\"\n",
    "    Pass in a the names of all the attributes that you want\n",
    "    \"\"\"\n",
    "\n",
    "    file = open('C:/Users/Paddy/CRT/Github/input/CelebA/list_attr_celeba.csv').read().split()\n",
    "    attr_names = file[0].split(',')\n",
    "    file = file[1:]\n",
    "    \n",
    "    def transform(idx):\n",
    "        attr = torch.tensor([int(entry) for entry in file[idx].split(',')[1:]])\n",
    "        mask = [attr_names[1:][i] in desired_attr for i in range(len(attr))]\n",
    "        masked = attr[mask]\n",
    "        return torch.relu(masked).float()\n",
    "    return transform\n",
    "\n",
    "file = open('C:/Users/Paddy/CRT/Github/input/CelebA/list_attr_celeba.csv').read().split()\n",
    "attr_names = file[0].split(',')\n",
    "\n",
    "bald_transform = celeb_label_transform(\"Bald\")\n",
    "bald_transform(50)\n"
   ]
  },
  {
   "cell_type": "code",
   "execution_count": 9,
   "metadata": {},
   "outputs": [],
   "source": [
    "import pandas as pd\n",
    "\n",
    "targ_dir = 'C:/Users/Paddy/CRT/Github/input/SEN12MS/'\n",
    "filenames = list(pathlib.Path(targ_dir).glob(\"*/*/*.tif\"))\n",
    "\n",
    "# dictionary of lists\n",
    "dict = {'name': filenames}\n",
    "     \n",
    "df = pd.DataFrame(filenames)\n",
    "     \n",
    "# saving the dataframe\n",
    "df.to_csv('sen12_filenames.csv')"
   ]
  },
  {
   "cell_type": "code",
   "execution_count": 40,
   "metadata": {},
   "outputs": [
    {
     "data": {
      "text/plain": [
       "tensor([1.])"
      ]
     },
     "execution_count": 40,
     "metadata": {},
     "output_type": "execute_result"
    }
   ],
   "source": [
    "import torch\n",
    "\n",
    "def sen12_label_transform(desired_season):\n",
    "    \"\"\"\n",
    "    Pass in a the names of all the attributes that you want\n",
    "    \"\"\"\n",
    "\n",
    "    file = open('C:/Users/Paddy/CRT/Github/input/SEN12MS/seasons_labeled_spring.csv').read().split()\n",
    "    season_names = file[0].split(',')\n",
    "    file = file[1:]\n",
    "    \n",
    "    def transform(idx):\n",
    "        season = torch.tensor([int(entry) for entry in file[idx].split(',')[1:]])\n",
    "        mask = [season_names[1:][i] in desired_season for i in range(len(season))]\n",
    "        masked = season[mask]\n",
    "        return torch.relu(masked).float()\n",
    "    return transform"
   ]
  },
  {
   "cell_type": "code",
   "execution_count": 36,
   "metadata": {},
   "outputs": [
    {
     "name": "stdout",
     "output_type": "stream",
     "text": [
      "Saving data...\n",
      "Saved.\n",
      "                           scene  spring  summer  fall  winter\n",
      "0  ROIs1158_spring_s2_1_p100.tif      -1      -1     1      -1\n",
      "1  ROIs1158_spring_s2_1_p101.tif      -1      -1     1      -1\n",
      "2  ROIs1158_spring_s2_1_p102.tif      -1      -1     1      -1\n",
      "3  ROIs1158_spring_s2_1_p103.tif      -1      -1     1      -1\n",
      "4  ROIs1158_spring_s2_1_p104.tif      -1      -1     1      -1\n"
     ]
    }
   ],
   "source": [
    "import os\n",
    "import pandas as pd\n",
    "import pathlib\n",
    "from tqdm import tqdm\n",
    "\n",
    "path = \"C:/Users/Paddy/CRT/Github/input/SEN12MS/\"\n",
    "filenames = list(pathlib.Path(path).glob(\"*/*/*.tif\"))\n",
    "\n",
    "path = \"C:/Users/Paddy/CRT/Github/input/SEN12MS/ROIs1158_spring\"\n",
    "# s1 = fall, s6 = spring\n",
    "\n",
    "foldernames = list(pathlib.Path(path).glob(\"*/\"))\n",
    "\n",
    "seasons_original = pd.read_csv('C:/Users/Paddy/CRT/Github/input/SEN12MS/seasons_spring.csv')\n",
    "\n",
    "seasons = []\n",
    "filenames = []\n",
    "\n",
    "for folder in foldernames:\n",
    "    for file in list(pathlib.Path(folder).glob(\"*.tif\")):\n",
    "        season_ref = \"_\".join(os.path.basename(file).split(\"_\")[0:4])\n",
    "        season = seasons_original.loc[seasons_original[\"scene\"] == season_ref][\"true_season\"]\n",
    "        filenames.append(os.path.basename(file))\n",
    "        seasons.append(season.item())\n",
    "\n",
    "spring = [1 if x == 'spring' else -1 for x in seasons]\n",
    "summer = [1 if x == 'summer' else -1 for x in seasons]\n",
    "fall = [1 if x == 'fall' else -1 for x in seasons]\n",
    "winter = [1 if x == 'winter' else -1 for x in seasons]\n",
    "\n",
    "df = pd.DataFrame(zip(filenames, spring, summer, fall, winter), columns=['scene','spring', 'summer', 'fall', 'winter'])\n",
    "\n",
    "print(\"Saving data...\")\n",
    "df.to_csv(\"seasons_labeled_spring.csv\", index=False)\n",
    "print(\"Saved.\")\n",
    "print(df.head())"
   ]
  },
  {
   "cell_type": "code",
   "execution_count": null,
   "metadata": {},
   "outputs": [],
   "source": []
  }
 ],
 "metadata": {
  "kernelspec": {
   "display_name": "wopt",
   "language": "python",
   "name": "python3"
  },
  "language_info": {
   "codemirror_mode": {
    "name": "ipython",
    "version": 3
   },
   "file_extension": ".py",
   "mimetype": "text/x-python",
   "name": "python",
   "nbconvert_exporter": "python",
   "pygments_lexer": "ipython3",
   "version": "3.10.12"
  },
  "orig_nbformat": 4
 },
 "nbformat": 4,
 "nbformat_minor": 2
}
